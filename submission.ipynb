{
 "cells": [
  {
   "cell_type": "markdown",
   "id": "d3101689",
   "metadata": {},
   "source": [
    "### Sumbission"
   ]
  },
  {
   "cell_type": "markdown",
   "id": "df765d8b",
   "metadata": {},
   "source": [
    "Important note: Neural Network is outperformed all. But, we should add more features including weather and other features, then recheck it"
   ]
  },
  {
   "cell_type": "code",
   "execution_count": 1,
   "id": "df139a9d",
   "metadata": {},
   "outputs": [],
   "source": [
    "from src.preprocessing import run_preprocessing\n",
    "from models.linear_regression import run_linear_regression\n",
    "from models.random_forest import run_random_forest\n",
    "from models.xgboost_model import run_xgboost\n",
    "from models.neural_net import train_neural_net\n",
    "import pandas as pd"
   ]
  },
  {
   "cell_type": "markdown",
   "id": "8420e5ba",
   "metadata": {},
   "source": [
    "### Preprocessing"
   ]
  },
  {
   "cell_type": "markdown",
   "id": "c9e4fd29",
   "metadata": {},
   "source": [
    "Please enter  path for saving train.csv and test.csv files and run the all the dataset that includes in this range(from 2024.08.01 to 2025.08.1). For example :\n",
    "\n",
    "daily_df, train_df, test_df = run_preprocessing(\"data\", \"nyc_311_filtered.csv\")\n",
    "\n",
    "- nyc_311_filtered.csv -- all dataset (from 2024.08.01 to 2025.08.1)\n",
    "- \"data/\" -- folder to save the processed train.csv and test.csv files"
   ]
  },
  {
   "cell_type": "code",
   "execution_count": null,
   "id": "9af65ccc",
   "metadata": {},
   "outputs": [
    {
     "name": "stdout",
     "output_type": "stream",
     "text": [
      "============================================================\n",
      "NYC 311 Complete Data Pipeline\n",
      "============================================================\n",
      "PIPELINE COMPLETE\n",
      "Total records: 365\n",
      "Features: 20\n",
      "All Data Shape: (365, 20)\n",
      "Train Data Shape: (273, 20)\n",
      "Test Data Shape: (92, 20)\n",
      "Nulls in training set:\n",
      "total_calls      14\n",
      "year              0\n",
      "month             0\n",
      "day               0\n",
      "dayofweek         0\n",
      "dayofyear         0\n",
      "week              0\n",
      "quarter           0\n",
      "month_sin         0\n",
      "month_cos         0\n",
      "dayofweek_sin     0\n",
      "dayofweek_cos     0\n",
      "dayofyear_sin     0\n",
      "dayofyear_cos     0\n",
      "week_sin          0\n",
      "week_cos          0\n",
      "quarter_sin       0\n",
      "quarter_cos       0\n",
      "is_weekend        0\n",
      "is_holiday        0\n",
      "dtype: int64\n",
      "Nulls in test set:\n",
      "total_calls      0\n",
      "year             0\n",
      "month            0\n",
      "day              0\n",
      "dayofweek        0\n",
      "dayofyear        0\n",
      "week             0\n",
      "quarter          0\n",
      "month_sin        0\n",
      "month_cos        0\n",
      "dayofweek_sin    0\n",
      "dayofweek_cos    0\n",
      "dayofyear_sin    0\n",
      "dayofyear_cos    0\n",
      "week_sin         0\n",
      "week_cos         0\n",
      "quarter_sin      0\n",
      "quarter_cos      0\n",
      "is_weekend       0\n",
      "is_holiday       0\n",
      "dtype: int64\n",
      "Train shape after removing nulls: (259, 20)\n",
      "Test shape after removing nulls: (92, 20)\n"
     ]
    }
   ],
   "source": [
    "daily_df, train_df, test_df = run_preprocessing(\"data\", \"nyc_311_filtered.csv\")"
   ]
  },
  {
   "cell_type": "code",
   "execution_count": 2,
   "id": "aa5e0bf9",
   "metadata": {},
   "outputs": [],
   "source": [
    "def save_predictions_to_csv(y_true, y_pred, filename=\"submission.csv\"):\n",
    "    if not isinstance(y_true, pd.Series):\n",
    "        y_true = pd.Series(y_true)\n",
    "    df = pd.DataFrame({\n",
    "        \"index\": y_true.index,\n",
    "        \"actual\": y_true.values.flatten(),\n",
    "        \"predicted\": y_pred.flatten()\n",
    "    })\n",
    "    df.to_csv(filename, index=False)\n",
    "    print(f\"Predictions saved to {filename}\")"
   ]
  },
  {
   "cell_type": "markdown",
   "id": "aa8b6c7b",
   "metadata": {},
   "source": [
    "### Neural Net Model"
   ]
  },
  {
   "cell_type": "markdown",
   "id": "0157825c",
   "metadata": {},
   "source": [
    "Enter the preprocessed train.csv and test.csv path. It is the same rule for the all models"
   ]
  },
  {
   "cell_type": "code",
   "execution_count": 6,
   "id": "83a358e1",
   "metadata": {},
   "outputs": [
    {
     "name": "stdout",
     "output_type": "stream",
     "text": [
      "Epoch [1/100], Loss: 99.9281\n",
      "Epoch [10/100], Loss: 27.8725\n",
      "Epoch [20/100], Loss: 10.5452\n",
      "Epoch [30/100], Loss: 10.8956\n",
      "Epoch [40/100], Loss: 10.6819\n",
      "Epoch [50/100], Loss: 10.5680\n",
      "Epoch [60/100], Loss: 10.7567\n",
      "Epoch [70/100], Loss: 9.9920\n",
      "Epoch [80/100], Loss: 10.2919\n",
      "Epoch [90/100], Loss: 11.5572\n",
      "Epoch [100/100], Loss: 10.7001\n",
      "📊 Evaluation on Test Set:\n",
      "RMSE: 1304.62\n",
      "MAPE: 0.40%\n",
      "Predictions saved to submission.csv\n"
     ]
    }
   ],
   "source": [
    "train_path = \"data/train.csv\"\n",
    "test_path = \"data/test.csv\"\n",
    "model, y_true, y_pred = train_neural_net(\n",
    "    train_path, \n",
    "    test_path, \n",
    "    target_column=\"total_calls\", \n",
    "    normalize=False,\n",
    "    epochs=100,\n",
    ")\n",
    "\n",
    "save_predictions_to_csv(y_true, y_pred, filename=\"submission.csv\")\n"
   ]
  },
  {
   "cell_type": "markdown",
   "id": "1dc3119f",
   "metadata": {},
   "source": [
    "### Linear Regression Model"
   ]
  },
  {
   "cell_type": "code",
   "execution_count": null,
   "id": "d1b28d70",
   "metadata": {},
   "outputs": [
    {
     "name": "stdout",
     "output_type": "stream",
     "text": [
      "📊 Evaluation Metrics:\n",
      "RMSE: 1860.5204\n",
      "MAPE: 0.4334%\n",
      "R² Score: -1.3113\n"
     ]
    }
   ],
   "source": [
    "train_path = \"data/train.csv\"\n",
    "test_path = \"data/test.csv\"\n",
    "model, X_test, y_test, y_pred = run_linear_regression(train_path, test_path, normalize=False)\n",
    "# save_predictions_to_csv(y_true, y_pred, filename=\"submission.csv\")"
   ]
  },
  {
   "cell_type": "code",
   "execution_count": null,
   "id": "5a3dfde4",
   "metadata": {},
   "outputs": [
    {
     "name": "stdout",
     "output_type": "stream",
     "text": [
      "📊 Evaluation Metrics:\n",
      "RMSE: 1390.7850\n",
      "MAPE: 0.3941%\n",
      "R² Score: -0.2915\n"
     ]
    }
   ],
   "source": [
    "train_path = \"data/train.csv\"\n",
    "test_path = \"data/test.csv\"\n",
    "\n",
    "model, X_test, y_test, y_pred = run_random_forest(train_path, test_path, normalize=False)"
   ]
  },
  {
   "cell_type": "code",
   "execution_count": null,
   "id": "6fa43a62",
   "metadata": {},
   "outputs": [
    {
     "name": "stdout",
     "output_type": "stream",
     "text": [
      "📊 Evaluation Metrics:\n",
      "RMSE: 1407.4140\n",
      "MAPE: 0.3897%\n",
      "R² Score: -0.3226\n"
     ]
    }
   ],
   "source": [
    "train_path = \"data/train.csv\"\n",
    "test_path = \"data/test.csv\"\n",
    "\n",
    "model, X_test, y_test, y_pred = run_xgboost(train_path, test_path, normalize=False)"
   ]
  },
  {
   "cell_type": "markdown",
   "id": "0ba34734",
   "metadata": {},
   "source": [
    "### Save submission"
   ]
  },
  {
   "cell_type": "code",
   "execution_count": null,
   "id": "77347740",
   "metadata": {},
   "outputs": [],
   "source": [
    "model, y_true, y_pred = train_nn_model(X_train, y_train, X_test, y_test, epochs=100)\n",
    "save_predictions_to_csv(y_true, y_pred, filename=\"submission.csv\")\n"
   ]
  }
 ],
 "metadata": {
  "kernelspec": {
   "display_name": "Hack",
   "language": "python",
   "name": "python3"
  },
  "language_info": {
   "codemirror_mode": {
    "name": "ipython",
    "version": 3
   },
   "file_extension": ".py",
   "mimetype": "text/x-python",
   "name": "python",
   "nbconvert_exporter": "python",
   "pygments_lexer": "ipython3",
   "version": "3.10.18"
  }
 },
 "nbformat": 4,
 "nbformat_minor": 5
}
